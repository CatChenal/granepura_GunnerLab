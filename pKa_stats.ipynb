{
 "cells": [
  {
   "cell_type": "code",
   "execution_count": 1,
   "id": "72885bed",
   "metadata": {},
   "outputs": [],
   "source": [
    "import sys\n",
    "import corner\n",
    "import pandas as pd\n",
    "import numpy as np\n",
    "import ipywidgets as widgets\n",
    "import IPython\n",
    "import matplotlib as mpl\n",
    "import matplotlib.pyplot as plt\n",
    "import pickle as pkl\n",
    "import pylab as pyplt\n",
    "import random\n",
    "import scipy as sci\n",
    "import statistics as stat\n",
    "\n",
    "from numpy.linalg import inv\n",
    "from IPython import get_ipython\n",
    "get_ipython().run_line_magic('matplotlib', 'inline')\n",
    "from numpy import random\n",
    "from matplotlib import patches\n",
    "from matplotlib.colors import LogNorm,Normalize\n",
    "from pylab import gca, cm\n",
    "from scipy import linalg\n",
    "from scipy import stats\n",
    "from scipy.linalg import *\n",
    "from scipy.optimize import minimize\n",
    "from scipy.stats import norm, invgamma, multivariate_normal"
   ]
  },
  {
   "cell_type": "code",
   "execution_count": 4,
   "id": "f597b606",
   "metadata": {},
   "outputs": [
    {
     "name": "stdout",
     "output_type": "stream",
     "text": [
      "{'ASP': [3.1, 3.8, 3.3, 3.6, 2.2, 3.1], 'HIS': [7.75], 'GLU': [3.75, 3.0, 2.1]}\n",
      "ASP --> [3.1, 3.8, 3.3, 3.6, 2.2, 3.1]\n"
     ]
    }
   ],
   "source": [
    "# Create a empty dictionary for all the amino acids\n",
    "amino_acid_pK = {}\n",
    "\n",
    "# Open the PDB file and read its contents\n",
    "with open('PKAD-data.txt', 'r') as f:\n",
    "    lines = f.readlines()\n",
    "\n",
    "# Iterate through each line in the file\n",
    "for line in lines:\n",
    "    # Split the line into fields\n",
    "    fields = line.split()\n",
    "    # Get the amino acid name from the second field\n",
    "    amino_acid = fields[1]\n",
    "    # Get the pK data from the fifth field\n",
    "    pK = float(fields[4])\n",
    "    # Add the pK data to the dictionary\n",
    "    if amino_acid in amino_acid_pK:\n",
    "        amino_acid_pK[amino_acid].append(pK)\n",
    "    else:\n",
    "        amino_acid_pK[amino_acid] = [pK]\n",
    "\n",
    "# Print the pK data for each amino acid\n",
    "print(f'{amino_acid_pK}')\n",
    "# Print the pK data for a specific amino acid\n",
    "print(\"ASP -->\", amino_acid_pK['ASP'])"
   ]
  },
  {
   "cell_type": "code",
   "execution_count": 5,
   "id": "51ad7bc2",
   "metadata": {},
   "outputs": [
    {
     "name": "stdout",
     "output_type": "stream",
     "text": [
      "{'ASP'} --> Length = 6,  Mean = 3.1833333333333336, Minimum = 2.2, Maximum = 3.8 \n",
      "{'HIS'} --> Length = 1,  Mean = 7.75, Minimum = 7.75, Maximum = 7.75 \n",
      "{'GLU'} --> Length = 3,  Mean = 2.9499999999999997, Minimum = 2.1, Maximum = 3.75 \n"
     ]
    }
   ],
   "source": [
    "for key, values in amino_acid_pK.items():\n",
    "    length = np.size(values)\n",
    "    mean   = np.mean(values)\n",
    "    min    = np.min(values)\n",
    "    max    = np.max(values)\n",
    "    #length = len(values)\n",
    "    #print(f\"Key: {key}\")\n",
    "    #print(f\"Average: {average}\")\n",
    "    #print(f\"Minimum: {min}\")\n",
    "    \n",
    "    print(\"{} --> Length = {},  Mean = {}, Minimum = {}, Maximum = {} \"\\\n",
    "                    .format({key}, length, mean, min, max) )"
   ]
  },
  {
   "cell_type": "code",
   "execution_count": null,
   "id": "cfe92452",
   "metadata": {},
   "outputs": [],
   "source": []
  }
 ],
 "metadata": {
  "kernelspec": {
   "display_name": "Python 3 (ipykernel)",
   "language": "python",
   "name": "python3"
  },
  "language_info": {
   "codemirror_mode": {
    "name": "ipython",
    "version": 3
   },
   "file_extension": ".py",
   "mimetype": "text/x-python",
   "name": "python",
   "nbconvert_exporter": "python",
   "pygments_lexer": "ipython3",
   "version": "3.9.13"
  }
 },
 "nbformat": 4,
 "nbformat_minor": 5
}
